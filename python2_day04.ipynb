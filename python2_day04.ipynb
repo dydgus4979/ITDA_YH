{
  "nbformat": 4,
  "nbformat_minor": 0,
  "metadata": {
    "colab": {
      "provenance": [],
      "authorship_tag": "ABX9TyMYsfRW99z3BAxzda2LQQHn",
      "include_colab_link": true
    },
    "kernelspec": {
      "name": "python3",
      "display_name": "Python 3"
    },
    "language_info": {
      "name": "python"
    }
  },
  "cells": [
    {
      "cell_type": "markdown",
      "metadata": {
        "id": "view-in-github",
        "colab_type": "text"
      },
      "source": [
        "<a href=\"https://colab.research.google.com/github/dydgus4979/ITDA_YH/blob/main/python2_day04.ipynb\" target=\"_parent\"><img src=\"https://colab.research.google.com/assets/colab-badge.svg\" alt=\"Open In Colab\"/></a>"
      ]
    },
    {
      "cell_type": "code",
      "execution_count": null,
      "metadata": {
        "id": "SE0Fy1FtOXj1"
      },
      "outputs": [],
      "source": []
    },
    {
      "cell_type": "markdown",
      "source": [
        "1. 데이터 시각화(data visualization)\n",
        "-  데이터를 분석한 결과를 사용자가 쉽게 이해할 수 있도록 표현하여 전달하는것\n",
        "\t(다양한 그래프 등으로 출력)\n",
        "\n",
        "1) 데이터 시각화 필요한 이유\n",
        "- 많은 양의 데이터를 한번에 볼 수 있음\n",
        "- 전문지식이 없어도 데이터를 인지하고 사용할 수 있음\n",
        "- 단순한 데이터의 나열보다 정확한 분석결과를 얻을 수 있음\n",
        "- 단순한 데이터에서는 알 수 없는 중요한 정보들을 얻을 수 있음\n",
        "\n",
        "2) 파이썬의 데이터 시각화\n",
        "- R 언어로 많이 사용함(파이썬보다 느리고 메모리를 많이 소모)\n",
        "- 다양한 라이브러리를 사용(matplotlib)\n",
        "\n",
        "2. matplotlib\n",
        "- 다양한 데이터들을 많은 방법으로 도식화할 수 있는 파이썬 라이브러리\n",
        "\n",
        "https://matplotlib.org/\n",
        "\n",
        "1) 설치 및 실행방법\n",
        "colab > import matplotlib\n",
        "vs code > 터미널에서 pip install matplotlib\n",
        "\t import matplotlib\n",
        "\n",
        "2) 기본 개념\n",
        "import matplotlib.pyplot as plt\n",
        "\n",
        "figure : 그래프의 전체 영역\n",
        "\t-> figure() 함수\n",
        "subplot : 실제 그래프를 그리는 영역, 하나의 figure에 여러개의 subplot이 포함 될 수 있음\n",
        "\t-> add_subplot()함수\n",
        "\n",
        "\n",
        "3) 기본 사용법\n",
        "import matplotlib.pyplot as plt\n",
        "figure = plt.figure()\n",
        "axes = figure.add_subplot(행, 열, 번호)\n",
        "\t특이사항 : figure는 전체인데, subplot이 몇개 인지는 add_supblot에서 결정됨\n",
        "plt.show()\t\t#그래프 출력\n",
        "\n",
        "\n",
        "4) plot()함수\n",
        "- 꺽은 선영 그래프를 그리는 함수\n",
        "- plot(x,y) x축에서 사용할 데이터와 y축에서 사용할 데이터를 각각 리스트로 만든 뒤 인수로 전달\n",
        "\n",
        "\n",
        "5) 한글 깨질 때 조치방법(windows)\n",
        "- matplotlib에서 한글 사용 시 깨져서 표시됨\n",
        "- font-manager, rc를 이용해서 사용하고자는 하는 한글 폰트를 등록하면 해결 가능함\n",
        "- C:\\Winodws\\dFonts 디렉터리에 시스템에 설치된 폰트들이 저장되어 있으므로 경로와 파일명 확인\n",
        "- malgun.ttf =>맑은 고딕\n",
        "\n",
        "* 사용방법\n",
        "from matplotlib import font_manager.rc\n",
        "import matplotlib as mpl\n",
        "font_path = '경로/폰트명까지'\n",
        "font_name = font_manager.FontProperties(fname=font_path).get_name()\n",
        "mpl.rc('font', family= font_name)\n",
        "\n",
        "6) bar() 함수\n",
        "- 범주가 있는 데이터 값을 직사각형의 막대로 표현하는 그래프\n",
        "-  어떤 데이터의 많고 적음을 나타낼 때 주로 사용\n",
        "\n",
        "xlabel() : x축의 이름 지정\n",
        "ylabel() : y축의 이름 지정\n",
        "title() : 그래프 제목 지정\n",
        "\n",
        "7) scatter() 함수\n",
        "- 산포 그래프를 그릴 때 사용( 어떤 두 변수 사이의 상관관계를 나타낼 때 사용)\n",
        "- 옵션\n",
        "\ts : 각 점의 크기 결정\n",
        "\tc : 각 점의 색상을 지정\n",
        "\n",
        "8) pie() 함수\n",
        "- 원형 그래프를 그릴 때 사용(각 항목의 비율을 나타낼 때 사용)\n",
        "- 옵션\n",
        "\tlegend() : 범례 표시\n",
        "\t\t(label = 데이터, loc = 위치)\n",
        "\t\t튜플형태로 좌표 부여가 가능(0.0, 0.0)\n",
        "\t\tlower right 문자열로 부여가능(기본값은 best -> 최적의 위치)\n",
        "\n",
        "------------------------------------------------------------------------------------------\n",
        "[정리]\n",
        "1. matplotlib\n",
        "\t파이썬의 대표적인 시각화 라이브러리"
      ],
      "metadata": {
        "id": "tGEmGqRROYYD"
      }
    }
  ]
}