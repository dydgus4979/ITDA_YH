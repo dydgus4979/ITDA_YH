{
  "nbformat": 4,
  "nbformat_minor": 0,
  "metadata": {
    "colab": {
      "provenance": [],
      "collapsed_sections": [],
      "include_colab_link": true
    },
    "kernelspec": {
      "name": "python3",
      "display_name": "Python 3"
    },
    "language_info": {
      "name": "python"
    }
  },
  "cells": [
    {
      "cell_type": "markdown",
      "metadata": {
        "id": "view-in-github",
        "colab_type": "text"
      },
      "source": [
        "<a href=\"https://colab.research.google.com/github/dydgus4979/ITDA_YH/blob/main/python2_day06.ipynb\" target=\"_parent\"><img src=\"https://colab.research.google.com/assets/colab-badge.svg\" alt=\"Open In Colab\"/></a>"
      ]
    },
    {
      "cell_type": "markdown",
      "source": [
        "> 데이터 프레임 -> 딕셔너리"
      ],
      "metadata": {
        "id": "-ZZvkIizfz9A"
      }
    },
    {
      "cell_type": "code",
      "execution_count": null,
      "metadata": {
        "colab": {
          "base_uri": "https://localhost:8080/"
        },
        "id": "3pQkWfrDcuZb",
        "outputId": "ad9e02bd-14b0-489b-e743-c234dd854498"
      },
      "outputs": [
        {
          "output_type": "stream",
          "name": "stdout",
          "text": [
            "  Name  Age   City\n",
            "0   짱구    5  Seoul\n",
            "1   훈이    6  Busan\n",
            "2   맹구    7  Seoul \n",
            "\n",
            "{'Name': {0: '짱구', 1: '훈이', 2: '맹구'}, 'Age': {0: 5, 1: 6, 2: 7}, 'City': {0: 'Seoul', 1: 'Busan', 2: 'Seoul'}} \n",
            "\n",
            "{'Name': ['짱구', '훈이', '맹구'], 'Age': [5, 6, 7], 'City': ['Seoul', 'Busan', 'Seoul']} \n",
            "\n",
            "{0: {'Name': '짱구', 'Age': 5, 'City': 'Seoul'}, 1: {'Name': '훈이', 'Age': 6, 'City': 'Busan'}, 2: {'Name': '맹구', 'Age': 7, 'City': 'Seoul'}} \n",
            "\n",
            "[{'Name': '짱구', 'Age': 5, 'City': 'Seoul'}, {'Name': '훈이', 'Age': 6, 'City': 'Busan'}, {'Name': '맹구', 'Age': 7, 'City': 'Seoul'}]\n"
          ]
        }
      ],
      "source": [
        "import pandas as pd\n",
        "\n",
        "df_d1 = pd.DataFrame([['짱구', 5, 'Seoul'], ['훈이', 6,'Busan'], ['맹구', 7, 'Seoul']], columns = ['Name','Age', 'City'])\n",
        "\n",
        "print(df_d1, '\\n')\n",
        "\n",
        "print(df_d1.to_dict(), '\\n')\n",
        "\n",
        "print(df_d1.to_dict('list'), '\\n')\n",
        "\n",
        "print(df_d1.to_dict('index'), '\\n') #{인덱스:{열이름:값}}\n",
        "\n",
        "print(df_d1.to_dict('records'))"
      ]
    },
    {
      "cell_type": "markdown",
      "source": [
        "> 데이터 프레임 값 수정, 추가, 삭제"
      ],
      "metadata": {
        "id": "4WZDMDagktZe"
      }
    },
    {
      "cell_type": "code",
      "source": [
        "data_li =  [['1000','짱구',70.5], ['1001','철수',98.2],['1002','훈이',81.3], ['1003','맹구',78.9]]\n",
        "\n",
        "df5 = pd.DataFrame(data_li)\n",
        "print(df5, '\\n')\n",
        "\n",
        "#인덱스 수정\n",
        "df5.index = ['학생1', '학생2', '학생3', '학생4']\n",
        "print(df5, '\\n')\n",
        "\n",
        "#컬럼 수정\n",
        "df5.columns = ['번호', '학생이름','파이썬점수']\n",
        "print(df5)"
      ],
      "metadata": {
        "colab": {
          "base_uri": "https://localhost:8080/"
        },
        "id": "0BEIe3wrktBx",
        "outputId": "be0a8389-34d1-48fa-9c52-ddfa867871b0"
      },
      "execution_count": null,
      "outputs": [
        {
          "output_type": "stream",
          "name": "stdout",
          "text": [
            "      0   1     2\n",
            "0  1000  짱구  70.5\n",
            "1  1001  철수  98.2\n",
            "2  1002  훈이  81.3\n",
            "3  1003  맹구  78.9 \n",
            "\n",
            "        0   1     2\n",
            "학생1  1000  짱구  70.5\n",
            "학생2  1001  철수  98.2\n",
            "학생3  1002  훈이  81.3\n",
            "학생4  1003  맹구  78.9 \n",
            "\n",
            "       번호 학생이름  파이썬점수\n",
            "학생1  1000   짱구   70.5\n",
            "학생2  1001   철수   98.2\n",
            "학생3  1002   훈이   81.3\n",
            "학생4  1003   맹구   78.9\n"
          ]
        }
      ]
    },
    {
      "cell_type": "markdown",
      "source": [
        "> rename() 함수 : 데이터 프레임에서 제공하는 함수"
      ],
      "metadata": {
        "id": "6ML1ZEp9nim0"
      }
    },
    {
      "cell_type": "code",
      "source": [
        "data_li =  [['1000','짱구',70.5], ['1001','철수',98.2],['1002','훈이',81.3], ['1003','맹구',78.9]]\n",
        "\n",
        "df6 = pd.DataFrame(data_li)\n",
        "print(df6, '\\n')\n",
        "\n",
        "df6.rename(columns = {0:'번호', 1:'학생이름', 2: '파이썬점수'}, inplace = True)\n",
        "df6.rename(index = {0:'학생1', 1:'학생2', 2:'학생3', 3:'학생4'}, inplace = True)\n",
        "\n",
        "print(df6)\n"
      ],
      "metadata": {
        "colab": {
          "base_uri": "https://localhost:8080/"
        },
        "id": "qcodICeYmZZP",
        "outputId": "b0ccc25b-e67c-4ffa-d399-8a44745504dc"
      },
      "execution_count": null,
      "outputs": [
        {
          "output_type": "stream",
          "name": "stdout",
          "text": [
            "      0   1     2\n",
            "0  1000  짱구  70.5\n",
            "1  1001  철수  98.2\n",
            "2  1002  훈이  81.3\n",
            "3  1003  맹구  78.9 \n",
            "\n",
            "       번호 학생이름  파이썬점수\n",
            "학생1  1000   짱구   70.5\n",
            "학생2  1001   철수   98.2\n",
            "학생3  1002   훈이   81.3\n",
            "학생4  1003   맹구   78.9\n"
          ]
        }
      ]
    },
    {
      "cell_type": "markdown",
      "source": [
        "> 행/열 삭제(drop)"
      ],
      "metadata": {
        "id": "7wu0pCvboQCN"
      }
    },
    {
      "cell_type": "code",
      "source": [
        "df_6 = df6.copy()   #복사\n",
        "print(df_6, '\\n')\n",
        "\n",
        "#행 삭제 axis 옵션 생략 가능\n",
        "df_6.drop('학생2', inplace = True)\n",
        "print(df_6, '\\n')\n",
        "\n",
        "# 번호 열삭제\n",
        "# df_6.drop('번호', axis = 1, inplace =True)\n",
        "# print(df_6)\n",
        "\n",
        "#열 삭제 (두개이상)\n",
        "df_6.drop(['번호', '파이썬점수'], axis  = 1, inplace =True)\n",
        "print(df_6)"
      ],
      "metadata": {
        "colab": {
          "base_uri": "https://localhost:8080/"
        },
        "id": "RFf0sLc1oPsx",
        "outputId": "d00ccd7e-7802-490c-9114-31aa981e1e07"
      },
      "execution_count": null,
      "outputs": [
        {
          "output_type": "stream",
          "name": "stdout",
          "text": [
            "       번호 학생이름  파이썬점수\n",
            "학생1  1000   짱구   70.5\n",
            "학생2  1001   철수   98.2\n",
            "학생3  1002   훈이   81.3\n",
            "학생4  1003   맹구   78.9 \n",
            "\n",
            "       번호 학생이름  파이썬점수\n",
            "학생1  1000   짱구   70.5\n",
            "학생3  1002   훈이   81.3\n",
            "학생4  1003   맹구   78.9 \n",
            "\n",
            "    학생이름\n",
            "학생1   짱구\n",
            "학생3   훈이\n",
            "학생4   맹구\n"
          ]
        }
      ]
    },
    {
      "cell_type": "markdown",
      "source": [
        "> 행 선택\n",
        "\n",
        "> 딕셔너리는 알아서 인덱스로 컬럼명이 부여됨"
      ],
      "metadata": {
        "id": "bkfWJOQaq_Lc"
      }
    },
    {
      "cell_type": "code",
      "source": [
        "import pandas as pd\n",
        "\n",
        "\n",
        "exam_data = { '파이썬1' : [40,100,70,30], '파이썬2' : [50,70,90,80], 'c언어':[50,90,70,20], 'java':[88,68,58,38]}\n",
        "df7 = pd.DataFrame(exam_data, index = ['짱구', '철수', '훈이', '맹구'])\n",
        "\n",
        "print(df7, '\\n')\n",
        "\n",
        "#인덱스로 철수부분의 행데이터 출력\n",
        "print(df7.iloc[1], '\\n')\n",
        "\n",
        "#행선택\n",
        "print(df7.loc['짱구'], '\\n')\n",
        "\n",
        "print(df7.loc['훈이':],'\\n')\n",
        "\n",
        "print(df7.loc[['짱구','맹구']], '\\n')\n",
        "\n",
        "print(df7.iloc[3:], '\\n')\n",
        "\n",
        "print(df7.iloc[[2,1]])\n"
      ],
      "metadata": {
        "colab": {
          "base_uri": "https://localhost:8080/"
        },
        "id": "pmJPim9jrDGJ",
        "outputId": "e8c9267f-1876-4bcd-f34c-c573ebc4f468"
      },
      "execution_count": null,
      "outputs": [
        {
          "output_type": "stream",
          "name": "stdout",
          "text": [
            "    파이썬1  파이썬2  c언어  java\n",
            "짱구    40    50   50    88\n",
            "철수   100    70   90    68\n",
            "훈이    70    90   70    58\n",
            "맹구    30    80   20    38 \n",
            "\n",
            "파이썬1    100\n",
            "파이썬2     70\n",
            "c언어      90\n",
            "java     68\n",
            "Name: 철수, dtype: int64 \n",
            "\n",
            "파이썬1    40\n",
            "파이썬2    50\n",
            "c언어     50\n",
            "java    88\n",
            "Name: 짱구, dtype: int64 \n",
            "\n",
            "    파이썬1  파이썬2  c언어  java\n",
            "훈이    70    90   70    58\n",
            "맹구    30    80   20    38 \n",
            "\n",
            "    파이썬1  파이썬2  c언어  java\n",
            "짱구    40    50   50    88\n",
            "맹구    30    80   20    38 \n",
            "\n",
            "    파이썬1  파이썬2  c언어  java\n",
            "맹구    30    80   20    38 \n",
            "\n",
            "    파이썬1  파이썬2  c언어  java\n",
            "훈이    70    90   70    58\n",
            "철수   100    70   90    68\n"
          ]
        }
      ]
    },
    {
      "cell_type": "code",
      "source": [
        "exam_data1 = {'파이썬1':[40, 100, 70, 30], '파이썬2': [50, 70, 90, 80], \n",
        "             'c언어': [50, 90, 70, 18], 'java': [88, 68, 58, 77]}\n",
        "\n",
        "df8 = pd.DataFrame(exam_data1,index = ['짱구', '철수', '훈이', '맹구'])\n",
        "print(df8, '\\n')\n",
        "\n",
        "\n",
        "#파이썬1열만 출력\n",
        "python = df8['파이썬1']\n",
        "print(python, type(python), '\\n')\n",
        "\n",
        "#java  열만 \n",
        "java = df8.java\n",
        "print(java, type(java), '\\n')\n",
        "\n",
        "#두개이상의 열 선택(이중괄호 사용하면 하나의 열이라도 데이터프레임자료형으로 출력됨, 이렇게 사용되는 경우 많음)\n",
        "language = df8[['파이썬1']]\n",
        "print(language, type(language), '\\n')\n",
        "\n",
        "c = df8.c언어\n",
        "print(c, type(c))"
      ],
      "metadata": {
        "colab": {
          "base_uri": "https://localhost:8080/"
        },
        "id": "HiUUMERwtGH0",
        "outputId": "f71e0a98-c824-4e13-c2fe-4cb5e6f15660"
      },
      "execution_count": null,
      "outputs": [
        {
          "output_type": "stream",
          "name": "stdout",
          "text": [
            "    파이썬1  파이썬2  c언어  java\n",
            "짱구    40    50   50    88\n",
            "철수   100    70   90    68\n",
            "훈이    70    90   70    58\n",
            "맹구    30    80   18    77 \n",
            "\n",
            "짱구     40\n",
            "철수    100\n",
            "훈이     70\n",
            "맹구     30\n",
            "Name: 파이썬1, dtype: int64 <class 'pandas.core.series.Series'> \n",
            "\n",
            "짱구    88\n",
            "철수    68\n",
            "훈이    58\n",
            "맹구    77\n",
            "Name: java, dtype: int64 <class 'pandas.core.series.Series'> \n",
            "\n",
            "    파이썬1\n",
            "짱구    40\n",
            "철수   100\n",
            "훈이    70\n",
            "맹구    30 <class 'pandas.core.frame.DataFrame'> \n",
            "\n",
            "짱구    50\n",
            "철수    90\n",
            "훈이    70\n",
            "맹구    18\n",
            "Name: c언어, dtype: int64 <class 'pandas.core.series.Series'>\n"
          ]
        }
      ]
    },
    {
      "cell_type": "markdown",
      "source": [
        "#1. stack\n"
      ],
      "metadata": {
        "id": "2mIFYvX00gZi"
      }
    },
    {
      "cell_type": "markdown",
      "source": [
        "> list로 구현"
      ],
      "metadata": {
        "id": "olO0D9Y-0itV"
      }
    },
    {
      "cell_type": "code",
      "source": [
        "stack = []\n",
        "\n",
        "stack.append(1)\n",
        "stack.append(2)\n",
        "stack.append(3)\n",
        "stack.append(4)\n",
        "stack.append(5)\n",
        "\n",
        "print(stack)\n",
        "\n",
        "stack.pop()\n",
        "print(stack)\n",
        "stack.pop()\n",
        "stack.pop()\n",
        "print(stack)\n",
        "\n",
        "stack.pop()\n",
        "stack.pop()\n",
        "print(stack)"
      ],
      "metadata": {
        "colab": {
          "base_uri": "https://localhost:8080/"
        },
        "id": "Om15225R0km_",
        "outputId": "4ae5b4ac-2f77-4ec3-e32b-060c9ff29499"
      },
      "execution_count": null,
      "outputs": [
        {
          "output_type": "stream",
          "name": "stdout",
          "text": [
            "[1, 2, 3, 4, 5]\n",
            "[1, 2, 3, 4]\n",
            "[1, 2]\n",
            "[]\n"
          ]
        }
      ]
    },
    {
      "cell_type": "markdown",
      "source": [
        "> 사용자 정의 함수로 구현"
      ],
      "metadata": {
        "id": "LPK9XR1p2yKz"
      }
    },
    {
      "cell_type": "code",
      "source": [
        "#함수명 Stack()\n",
        "#빈 리스트 1개 생성 이름 : stack\n",
        "#리스트에 1부터 3까지 추가 후\n",
        "#(반복문 사용) 반복문 내에서 \"Pop Values is\"로 출력 / stack에 있는 값들을 하나씩 pop 시키기\n",
        "#Stack() 출력 결과 확인\n",
        "\n",
        "#출력결과\n",
        "# [1, 2, 3]\n",
        "# POP Values is 3\n",
        "# POP Values is 2\n",
        "# POP Values is 1\n",
        "\n",
        "def Stack():\n",
        "    stack = []\n",
        "\n",
        "    stack.append(1)\n",
        "    stack.append(2)\n",
        "    stack.append(3)\n",
        "\n",
        "    print(stack)\n",
        "\n",
        "    while stack:\n",
        "        print(\"pop Values is\", stack.pop())\n",
        "    \n",
        "Stack()"
      ],
      "metadata": {
        "colab": {
          "base_uri": "https://localhost:8080/"
        },
        "id": "3utrLAQO2z8Y",
        "outputId": "b5c61fac-a73a-45df-dfa5-b3e02e319278"
      },
      "execution_count": null,
      "outputs": [
        {
          "output_type": "stream",
          "name": "stdout",
          "text": [
            "[1, 2, 3]\n",
            "pop Values is 3\n",
            "pop Values is 2\n",
            "pop Values is 1\n"
          ]
        }
      ]
    },
    {
      "cell_type": "code",
      "source": [
        "#push() : 요소 추가\n",
        "\n",
        "def push(li, element):\n",
        "    li.append(element)\n",
        "\n",
        "#pop()  : 요소삭제, 가장 나중에 들어온 요소가 삭제되어야한다\n",
        "def pop(li):\n",
        "    return li.pop()\n",
        "\n",
        "#peek() : 가장 나중에 들어온 요소가 무엇인지 엿보는 함수\n",
        "def peek(li):\n",
        "    return li[-1]\n",
        "\n",
        "#clear()\n",
        "def clear(li):\n",
        "    for i in range(len(li)):\n",
        "        pop(li)\n",
        "\n",
        "stk = []\n",
        "push(stk, 10)\n",
        "push(stk, 20)\n",
        "push(stk, 30)\n",
        "push(stk, 40)\n",
        "print(stk)\n",
        "\n",
        "print('삭제된 요소 : ', pop(stk))\n",
        "print(stk)\n",
        "print('삭제된 요소 : ', pop(stk))\n",
        "print(stk)\n",
        "print('가장 마지막에 들어온 요소 : ', peek(stk))\n",
        "print(stk)\n",
        "clear(stk)\n",
        "print(stk)"
      ],
      "metadata": {
        "colab": {
          "base_uri": "https://localhost:8080/"
        },
        "id": "yb9T9aRv6DDV",
        "outputId": "28e18b24-9988-4bbf-d0c9-2c435e27c880"
      },
      "execution_count": null,
      "outputs": [
        {
          "output_type": "stream",
          "name": "stdout",
          "text": [
            "[10, 20, 30, 40]\n",
            "삭제된 요소 :  40\n",
            "[10, 20, 30]\n",
            "삭제된 요소 :  30\n",
            "[10, 20]\n",
            "가장 마지막에 들어온 요소 :  20\n",
            "[10, 20]\n",
            "[]\n"
          ]
        }
      ]
    },
    {
      "cell_type": "markdown",
      "source": [
        "> 클래스로 구현한 스택"
      ],
      "metadata": {
        "id": "zKzyj0K27VIo"
      }
    },
    {
      "cell_type": "code",
      "source": [
        "class Stack:\n",
        "  def __init__(self, max = 10): #초기화하는 함수(스택배열 생성하는 등의 준비작업)\n",
        "    self.stk = [] # 실질적으로 데이터가 저장될 공간\n",
        "    self.max = max # 스택의 크기를 저장할 공간\n",
        "\n",
        "  #show() 확인용 함수\n",
        "  def show(self):\n",
        "    print('-------------------------')\n",
        "    for element in self.stk:\n",
        "      print('|', element, end=' ')\n",
        "    print('\\n-------------------------')\n",
        "\n",
        "  #push()\n",
        "  def push(self, element):\n",
        "    if self.max > len(self.stk):\n",
        "      self.stk.append(element)\n",
        "\n",
        "  #pop()\n",
        "  # 스택이 비어있는데 삭제하려고 하는 경우에는 오류\n",
        "  # 스택이 비어있지 않을때만 삭제하기\n",
        "  # 삭제 + 삭제된 요소를 return\n",
        "  def pop(self):\n",
        "    if len(self.stk) != 0:\n",
        "      return self.stk.pop()\n",
        "\n",
        "  #peek()\n",
        "  # 스택이 비어있지 않을때만 실행 \n",
        "  def peek(self):\n",
        "    if len(self.stk) != 0:\n",
        "      return self.stk[-1]\n",
        "\n",
        "  #clear()\n",
        "  def clear(self):\n",
        "    for i in range(len(self.stk)):\n",
        "      self.pop()"
      ],
      "metadata": {
        "id": "5kBu85G57XyZ"
      },
      "execution_count": null,
      "outputs": []
    },
    {
      "cell_type": "code",
      "source": [
        "s1=Stack(1)\n",
        "s1.push(10)\n",
        "s1.push(20)\n",
        "s1.push(30)\n",
        "s1.push(40)\n",
        "s1.push(50)\n",
        "s1.push(60)\n",
        "s1.show()\n",
        "print('삭제된 요소 :',s1.pop())\n",
        "s1.show()\n",
        "print('삭제된 요소 :',s1.pop())\n",
        "s1.show()\n",
        "print('top에 있는 요소 :', s1.peek())\n",
        "s1.clear()\n",
        "s1.show()"
      ],
      "metadata": {
        "colab": {
          "base_uri": "https://localhost:8080/"
        },
        "id": "HQm4IFUvAp5T",
        "outputId": "6f270bfb-099b-4523-be81-cc97b90e7b1c"
      },
      "execution_count": null,
      "outputs": [
        {
          "output_type": "stream",
          "name": "stdout",
          "text": [
            "-------------------------\n",
            "| 10 \n",
            "-------------------------\n",
            "삭제된 요소 : 10\n",
            "-------------------------\n",
            "\n",
            "-------------------------\n",
            "삭제된 요소 : None\n",
            "-------------------------\n",
            "\n",
            "-------------------------\n",
            "top에 있는 요소 : None\n",
            "-------------------------\n",
            "\n",
            "-------------------------\n"
          ]
        }
      ]
    }
  ]
}