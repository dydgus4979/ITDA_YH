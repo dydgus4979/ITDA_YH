{
  "nbformat": 4,
  "nbformat_minor": 0,
  "metadata": {
    "colab": {
      "provenance": [],
      "collapsed_sections": [],
      "authorship_tag": "ABX9TyNxH3s3zJlRen4JAArV4vXk",
      "include_colab_link": true
    },
    "kernelspec": {
      "name": "python3",
      "display_name": "Python 3"
    },
    "language_info": {
      "name": "python"
    }
  },
  "cells": [
    {
      "cell_type": "markdown",
      "metadata": {
        "id": "view-in-github",
        "colab_type": "text"
      },
      "source": [
        "<a href=\"https://colab.research.google.com/github/dydgus4979/ITDA_YH/blob/main/numpy_fcac.ipynb\" target=\"_parent\"><img src=\"https://colab.research.google.com/assets/colab-badge.svg\" alt=\"Open In Colab\"/></a>"
      ]
    },
    {
      "cell_type": "code",
      "source": [],
      "metadata": {
        "id": "9F6Qn-2f1Exd"
      },
      "execution_count": null,
      "outputs": []
    },
    {
      "cell_type": "markdown",
      "source": [
        "배열 구조"
      ],
      "metadata": {
        "id": "pEtCXt-_1D_j"
      }
    },
    {
      "cell_type": "code",
      "execution_count": null,
      "metadata": {
        "colab": {
          "base_uri": "https://localhost:8080/"
        },
        "id": "sJDivPTBxrND",
        "outputId": "4d5346f0-fc78-4a49-aa5f-16ce537aadcd"
      },
      "outputs": [
        {
          "output_type": "stream",
          "name": "stdout",
          "text": [
            "[1, 2, 3, 4, 'a', 'b'] <class 'list'>\n",
            "1\n",
            "[['1' '2' '3' '4' 'a' 'b']] <class 'numpy.ndarray'>\n",
            "<class 'numpy.dtype[str_]'>\n"
          ]
        }
      ],
      "source": [
        "from numpy.core.memmap import dtype\n",
        "import numpy as np\n",
        "\n",
        "li1 =[1,2,3,4,'a','b']\n",
        "print(li1, type(li1))\n",
        "print(li1[0])\n",
        "\n",
        "ar1 =np.array([[1,2,3,4,'a','b']])\n",
        "print(ar1,type(ar1))\n",
        "print(type(ar1.dtype))"
      ]
    },
    {
      "cell_type": "markdown",
      "source": [
        "내부배열 내 원소 갯수가 모두 같아야함"
      ],
      "metadata": {
        "id": "DKVvGgWa15No"
      }
    },
    {
      "cell_type": "markdown",
      "source": [
        "넘파이 객체의 속성\n"
      ],
      "metadata": {
        "id": "nahE_4BB3Yqv"
      }
    },
    {
      "cell_type": "code",
      "source": [
        "ar3 = np.array([1,2,3,4,5]) #1행 5열\n",
        "print(ar3)\n",
        "\n",
        "print(ar3.shape)\n",
        "print(ar3.ndim)\n",
        "\n",
        "#2행 3열\n",
        "ar4 = np.array([[1,1,3],[0.,1.,2.]])\n",
        "\n",
        "print(ar4)\n",
        "print(ar4.shape)\n",
        "print(ar4.dtype)"
      ],
      "metadata": {
        "colab": {
          "base_uri": "https://localhost:8080/"
        },
        "id": "msDj58rF3bD_",
        "outputId": "e5321f96-1e22-40b4-e3f5-bccf19c5529f"
      },
      "execution_count": null,
      "outputs": [
        {
          "output_type": "stream",
          "name": "stdout",
          "text": [
            "[1 2 3 4 5]\n",
            "(5,)\n",
            "1\n",
            "[[1. 1. 3.]\n",
            " [0. 1. 2.]]\n",
            "(2, 3)\n",
            "float64\n"
          ]
        }
      ]
    },
    {
      "cell_type": "code",
      "source": [
        "import numpy as np\n",
        "arr1 = np.array([[2,3],[5,2]])\n",
        "print(arr1)"
      ],
      "metadata": {
        "colab": {
          "base_uri": "https://localhost:8080/"
        },
        "id": "HOxjUkWv4sdN",
        "outputId": "9c224ba4-453f-4a62-d369-676914355164"
      },
      "execution_count": null,
      "outputs": [
        {
          "output_type": "stream",
          "name": "stdout",
          "text": [
            "[[2 3]\n",
            " [5 2]]\n"
          ]
        }
      ]
    },
    {
      "cell_type": "code",
      "source": [
        "arr2 = np.array([[1,2,3,4,5],[2,3,4,5,6],[7,8,9,10,11]])\n",
        "\n",
        "print(arr2) #3행 5열\n",
        "\n",
        "print(arr2.ndim)    #2차원\n",
        "print(arr2.dtype)   #배열의 요소는 정수형\n",
        "\n",
        "print(arr2[1][2])   #2행 3열 결과 => 4 출력\n",
        "\n",
        "print(arr2[1:,3:])"
      ],
      "metadata": {
        "colab": {
          "base_uri": "https://localhost:8080/"
        },
        "id": "ySxUz1d848yL",
        "outputId": "eb1e2e71-0f42-4085-b293-ee6b47205f80"
      },
      "execution_count": null,
      "outputs": [
        {
          "output_type": "stream",
          "name": "stdout",
          "text": [
            "[[ 1  2  3  4  5]\n",
            " [ 2  3  4  5  6]\n",
            " [ 7  8  9 10 11]]\n",
            "2\n",
            "int64\n",
            "4\n",
            "[[ 5  6]\n",
            " [10 11]]\n"
          ]
        }
      ]
    },
    {
      "cell_type": "markdown",
      "source": [
        "shape : 배열의 크기 알아내기"
      ],
      "metadata": {
        "id": "E7FJcC645_TR"
      }
    },
    {
      "cell_type": "code",
      "source": [
        "arr3 = np.array([2,3,4,5,6])    #1행 5열\n",
        "\n",
        "print(arr3)\n",
        "print(arr3.shape)   #(5,)\n",
        "\n",
        "arr4 = np.array([[1,2,3,4],[5,6,7,8]])  #2*4\n",
        "print(arr4)\n",
        "print(arr4.shape)"
      ],
      "metadata": {
        "colab": {
          "base_uri": "https://localhost:8080/"
        },
        "id": "eYez4z176Cew",
        "outputId": "e2ef9c61-a4b3-4474-c72f-f95e2bddb4d4"
      },
      "execution_count": null,
      "outputs": [
        {
          "output_type": "stream",
          "name": "stdout",
          "text": [
            "[2 3 4 5 6]\n",
            "(5,)\n",
            "[[1 2 3 4]\n",
            " [5 6 7 8]]\n",
            "(2, 4)\n"
          ]
        }
      ]
    },
    {
      "cell_type": "markdown",
      "source": [
        "dtype : 배열의 원소 유형 확인"
      ],
      "metadata": {
        "id": "QIzs5Qw76c0Z"
      }
    },
    {
      "cell_type": "code",
      "source": [
        "arr5 = np.array(['a','b','c'])\n",
        "print(arr5.dtype)   #<U1\n",
        "\n",
        "arr6 = np.array([1.0,2,4])\n",
        "print(arr6.dtype)\n",
        "\n"
      ],
      "metadata": {
        "colab": {
          "base_uri": "https://localhost:8080/"
        },
        "id": "18bRJnqa6cf5",
        "outputId": "bc8b4adc-a30f-4844-c389-ff0c8abc6a1b"
      },
      "execution_count": null,
      "outputs": [
        {
          "output_type": "stream",
          "name": "stdout",
          "text": [
            "<U1\n",
            "float64\n"
          ]
        }
      ]
    },
    {
      "cell_type": "markdown",
      "source": [
        "실습 2차원의 각 차원의 길이가 3인 배열 1행 값 1,2,3,4 2행값 5,6,7,8\n",
        "shape, ndim, dtype, size, type 출력"
      ],
      "metadata": {
        "id": "r3tuYlX07GRx"
      }
    },
    {
      "cell_type": "code",
      "source": [
        "a = np.array([[1,2,3,4],[5,6,7,8]])\n",
        "print(a)\n",
        "print(a.shape)\n",
        "print(a.ndim)\n",
        "print(a.dtype)\n",
        "print(a.size)\n",
        "print(type(a))"
      ],
      "metadata": {
        "colab": {
          "base_uri": "https://localhost:8080/"
        },
        "id": "ouFWwP-Q7VVs",
        "outputId": "ecb79ca1-2f6d-4f20-feb0-f50bdc3466e7"
      },
      "execution_count": null,
      "outputs": [
        {
          "output_type": "stream",
          "name": "stdout",
          "text": [
            "[[1 2 3 4]\n",
            " [5 6 7 8]]\n",
            "(2, 4)\n",
            "2\n",
            "int64\n",
            "8\n",
            "<class 'numpy.ndarray'>\n"
          ]
        }
      ]
    },
    {
      "cell_type": "markdown",
      "source": [
        "넘파이 함수\n"
      ],
      "metadata": {
        "id": "9i3LsdZX9Owo"
      }
    },
    {
      "cell_type": "code",
      "source": [
        "ar1 = np.arange(1,5)  #1부터 4까지\n",
        "print(ar1)\n",
        "print(ar1.dtype)\n",
        "print(ar1.astype('float64'))\n",
        "print(ar1.astype('int64'))"
      ],
      "metadata": {
        "colab": {
          "base_uri": "https://localhost:8080/"
        },
        "id": "ERkOB8tg9QvP",
        "outputId": "2846488f-a98c-402c-cf83-771f630dc256"
      },
      "execution_count": null,
      "outputs": [
        {
          "output_type": "stream",
          "name": "stdout",
          "text": [
            "[1 2 3 4]\n",
            "int64\n",
            "[1. 2. 3. 4.]\n",
            "[1 2 3 4]\n"
          ]
        }
      ]
    },
    {
      "cell_type": "code",
      "source": [
        "\n",
        "arr2 = np.zeros((2,10)) #2행 10열인 배열, 각원소가 0으로 출력\n",
        "print(arr2,arr2.dtype)\n",
        "\n",
        "arr3 =  np.zeros((2,10), dtype='i')\n",
        "print(arr3, arr3.dtype)\n",
        "\n",
        "arr4 = np.ones((2,10))\n",
        "print(arr4, arr4.dtype)\n",
        "\n",
        "#2이상 10미만의 원소로 이루어진 1차원 배열 만들기\n",
        "arr5 = np.arange(2.1,10,2)\n",
        "print(arr5)\n",
        "\n",
        "arr6 = np.ones((2,3))\n",
        "print(arr6)\n",
        "arr7 = np.transpose(arr6)\n",
        "print(arr7)\n",
        "\n",
        "arr8 = np.array([[1,2,3],[4,5,6]])\n",
        "print(arr8)\n",
        "arr9 = np.transpose(arr8)\n",
        "print(arr9)\n",
        "\n",
        "#변수명 arr1 0부터 14까지 원소로 이루어진 2차원 배열 만들기 (3행 5열)\n",
        "\n",
        "arr =  np.arange(0,15).reshape((3,5))   #shape : 배열의 각 차원의 크기를 튜플 형태\n",
        "print(arr)"
      ],
      "metadata": {
        "colab": {
          "base_uri": "https://localhost:8080/"
        },
        "id": "FCEYvhkH9xm4",
        "outputId": "8a046922-2fe2-4c0f-b462-379dcfba3631"
      },
      "execution_count": null,
      "outputs": [
        {
          "output_type": "stream",
          "name": "stdout",
          "text": [
            "[[0. 0. 0. 0. 0. 0. 0. 0. 0. 0.]\n",
            " [0. 0. 0. 0. 0. 0. 0. 0. 0. 0.]] float64\n",
            "[[0 0 0 0 0 0 0 0 0 0]\n",
            " [0 0 0 0 0 0 0 0 0 0]] int32\n",
            "[[1. 1. 1. 1. 1. 1. 1. 1. 1. 1.]\n",
            " [1. 1. 1. 1. 1. 1. 1. 1. 1. 1.]] float64\n",
            "[2.1 4.1 6.1 8.1]\n",
            "[[1. 1. 1.]\n",
            " [1. 1. 1.]]\n",
            "[[1. 1.]\n",
            " [1. 1.]\n",
            " [1. 1.]]\n",
            "[[1 2 3]\n",
            " [4 5 6]]\n",
            "[[1 4]\n",
            " [2 5]\n",
            " [3 6]]\n",
            "[[ 0  1  2  3  4]\n",
            " [ 5  6  7  8  9]\n",
            " [10 11 12 13 14]]\n"
          ]
        }
      ]
    },
    {
      "cell_type": "markdown",
      "source": [
        "배열의 사칙연산"
      ],
      "metadata": {
        "id": "z7DEOVK0B9mO"
      }
    },
    {
      "cell_type": "code",
      "source": [
        "#리스트(+,*)\n",
        "li3 = [1,2,3,4]\n",
        "li4 = [5,6,7,8]\n",
        "\n",
        "print(li3 + li4)\n",
        "print(li3 *3)\n",
        "\n",
        "#넘파이 배열의 사칙연산\n",
        "np_1 = np.array([[1,2,3],[4,5,6]])\n",
        "np_2 = np.array([[11,22,33],[10,20,30]])\n",
        "print(np_1)\n",
        "print(np_2)\n",
        "print(np_1+np_2)\n",
        "\n",
        "print(np_1*np_2)\n",
        "print(np_2/np_1)\n",
        "print(np_2-np_1)"
      ],
      "metadata": {
        "colab": {
          "base_uri": "https://localhost:8080/"
        },
        "id": "er-UsAPsB9u1",
        "outputId": "e373a2bb-3111-49a2-e4df-2b18c3b7e54c"
      },
      "execution_count": null,
      "outputs": [
        {
          "output_type": "stream",
          "name": "stdout",
          "text": [
            "[1, 2, 3, 4, 5, 6, 7, 8]\n",
            "[1, 2, 3, 4, 1, 2, 3, 4, 1, 2, 3, 4]\n",
            "[[1 2 3]\n",
            " [4 5 6]]\n",
            "[[11 22 33]\n",
            " [10 20 30]]\n",
            "[[12 24 36]\n",
            " [14 25 36]]\n",
            "[[ 11  44  99]\n",
            " [ 40 100 180]]\n",
            "[[11.  11.  11. ]\n",
            " [ 2.5  4.   5. ]]\n",
            "[[10 20 30]\n",
            " [ 6 15 24]]\n"
          ]
        }
      ]
    },
    {
      "cell_type": "markdown",
      "source": [
        "브로드캐스팅 : 크기가 서로다른 배열끼리 더하기\n",
        "(행, 열 중에 하나라도 같아야함 가능함)"
      ],
      "metadata": {
        "id": "uqC1QbGkFGgf"
      }
    },
    {
      "cell_type": "code",
      "source": [
        "br_ar = np.array([100,200,300]) #1행 3열\n",
        "print(br_ar.shape)\n",
        "\n",
        "np_1 = np.array([[1,2,3],[4,5,6]])  #2행 3열\n",
        "print(np_1.shape)\n",
        "\n",
        "print(br_ar + np_1) #np_1[0] + np_1[1]에 각각 더해짐"
      ],
      "metadata": {
        "colab": {
          "base_uri": "https://localhost:8080/"
        },
        "id": "tNQpPxa8FO5S",
        "outputId": "784ca12e-fc3e-46d2-e151-fd13cb7b3b4a"
      },
      "execution_count": null,
      "outputs": [
        {
          "output_type": "stream",
          "name": "stdout",
          "text": [
            "(3,)\n",
            "(2, 3)\n",
            "[[101 202 303]\n",
            " [104 205 306]]\n"
          ]
        }
      ]
    },
    {
      "cell_type": "code",
      "source": [
        "#브로드캐스팅이 안되는 경우\n",
        "np_1 = np.array([[1,2,3],[4,5,6]])  #2행 3열\n",
        "br_ar2 = np.array([1,2,3,4,5,6,7,8,9])\n",
        "#print(np_1+br_ar2) #행과 열의 크기가 모두 다 다른 배열은 더할 수 없다"
      ],
      "metadata": {
        "id": "pP3V71D5F0Eh"
      },
      "execution_count": null,
      "outputs": []
    },
    {
      "cell_type": "markdown",
      "source": [
        "판다스\n",
        "시리즈\n"
      ],
      "metadata": {
        "id": "qZkxFMhaHy8I"
      }
    },
    {
      "cell_type": "code",
      "source": [
        "#기본구조\n",
        "import pandas as pd\n",
        "\n",
        "s = pd.Series(['python',2022,9,23],index = ['a','b','c','d'],name = 'example')\n",
        "print(s)\n",
        "\n"
      ],
      "metadata": {
        "colab": {
          "base_uri": "https://localhost:8080/"
        },
        "id": "wuwpDMV1HzGd",
        "outputId": "ef568337-132b-4d3e-ed6f-cb447547d5f6"
      },
      "execution_count": null,
      "outputs": [
        {
          "output_type": "stream",
          "name": "stdout",
          "text": [
            "a    python\n",
            "b      2022\n",
            "c         9\n",
            "d        23\n",
            "Name: example, dtype: object\n"
          ]
        }
      ]
    },
    {
      "cell_type": "markdown",
      "source": [
        "딕셔너리->시리즈 변환"
      ],
      "metadata": {
        "id": "HxZe4CwxJZpY"
      }
    },
    {
      "cell_type": "code",
      "source": [
        "import pandas as pd\n",
        "dict_data = {'서울':1,'경기':2,'강원':3}\n",
        "sr = pd.Series(dict_data)\n",
        "print(sr,type(sr))  \n",
        "\n",
        "#인덱스 배열 선택\n",
        "print(sr.index) #타입 strind을 object로 본다\n",
        "\n",
        "#데이터 값 배열 선택\n",
        "print(sr.values)\n",
        "\n",
        "#자료형\n",
        "print(sr.dtype)\n"
      ],
      "metadata": {
        "colab": {
          "base_uri": "https://localhost:8080/"
        },
        "id": "YBKkUIqyJcG_",
        "outputId": "4961c0b7-3e25-40a9-867f-1203a113176b"
      },
      "execution_count": null,
      "outputs": [
        {
          "output_type": "stream",
          "name": "stdout",
          "text": [
            "서울    1\n",
            "경기    2\n",
            "강원    3\n",
            "dtype: int64 <class 'pandas.core.series.Series'>\n",
            "Index(['서울', '경기', '강원'], dtype='object')\n",
            "[1 2 3]\n",
            "int64\n"
          ]
        }
      ]
    },
    {
      "cell_type": "code",
      "source": [
        "#인덱스를 지정해서 변환\n",
        "dict_data1 = pd.Series(dict_data, index=['a','b','c'])  #키값이 달라서 키값으로 못가져오기 때문\n",
        "print(dict_data)    #values 값이 NaN으로 출력\n",
        "\n",
        "dict_data2 = pd.Series(dict_data, index=['서울','경기','강원']) #키값을 정확히 입력하면\n",
        "print(dict_data2)#values 값을 잘 받아옴"
      ],
      "metadata": {
        "id": "e15U_nbYKMeN"
      },
      "execution_count": null,
      "outputs": []
    },
    {
      "cell_type": "markdown",
      "source": [
        "리스트 -> 시리즈 변환\n"
      ],
      "metadata": {
        "id": "uZ3wyPflLokI"
      }
    },
    {
      "cell_type": "code",
      "source": [
        "li_data = ['2022',9.23,'python',100,True]\n",
        "sr = pd.Series(li_data)\n",
        "print(sr,'\\n')\n",
        "\n",
        "idx = sr.index\n",
        "print(idx)\n",
        "val = sr.values\n",
        "print(val,'\\n')\n",
        "\n",
        "#인덱스 지정해서 변환\n",
        "li_data1 = pd.Series(li_data, index = [1,2,3,4,5])\n",
        "print(li_data1)"
      ],
      "metadata": {
        "colab": {
          "base_uri": "https://localhost:8080/"
        },
        "id": "MD-x1i5UK5ZM",
        "outputId": "ad324f5b-7c22-4e23-d069-ac61c7e93009"
      },
      "execution_count": null,
      "outputs": [
        {
          "output_type": "stream",
          "name": "stdout",
          "text": [
            "0      2022\n",
            "1      9.23\n",
            "2    python\n",
            "3       100\n",
            "4      True\n",
            "dtype: object \n",
            "\n",
            "RangeIndex(start=0, stop=5, step=1)\n",
            "['2022' 9.23 'python' 100 True] \n",
            "\n",
            "1      2022\n",
            "2      9.23\n",
            "3    python\n",
            "4       100\n",
            "5      True\n",
            "dtype: object\n"
          ]
        }
      ]
    },
    {
      "cell_type": "markdown",
      "source": [
        "튜플 -> 시리즈 변환\n"
      ],
      "metadata": {
        "id": "--0EVzY7OI7N"
      }
    },
    {
      "cell_type": "code",
      "source": [
        "t_data = ('python','2022-09-23',True)\n",
        "sr = pd.Series(t_data, index = ['과목','날짜','수강여부'])\n",
        "print(sr)\n",
        "\n",
        "#원소 선택(2가지 방법)\n",
        "#방법1 : 정수형 위치 인덱스 사용 :  리스트 와 같은 원리 \n",
        "print(sr[0])\n",
        "\n",
        "#방법2 : 인덱스 이름을 사용 : 딕셔너리와 같은 원리\n",
        "print(sr['과목'])\n",
        "\n",
        "#여러값을 인덱싱\n",
        "print(sr[[1,2]],'\\n')\n",
        "print(sr[['과목','날짜']],'\\n')\n",
        "print(sr[0:2])  #슬라이싱으로 인덱싱 할 때는 대괄호 하나만 사용함\n"
      ],
      "metadata": {
        "colab": {
          "base_uri": "https://localhost:8080/"
        },
        "id": "iwUumT3lLDr-",
        "outputId": "3b90f11c-59f6-4226-ab3b-d4cf2fefac5b"
      },
      "execution_count": null,
      "outputs": [
        {
          "output_type": "stream",
          "name": "stdout",
          "text": [
            "과목          python\n",
            "날짜      2022-09-23\n",
            "수강여부          True\n",
            "dtype: object\n",
            "python\n",
            "python\n",
            "날짜      2022-09-23\n",
            "수강여부          True\n",
            "dtype: object \n",
            "\n",
            "과목        python\n",
            "날짜    2022-09-23\n",
            "dtype: object \n",
            "\n",
            "과목        python\n",
            "날짜    2022-09-23\n",
            "dtype: object\n"
          ]
        }
      ]
    },
    {
      "cell_type": "markdown",
      "source": [
        "시리즈 -> 딕셔너리 또는 리스트"
      ],
      "metadata": {
        "id": "-_wKJvwnQKBH"
      }
    },
    {
      "cell_type": "code",
      "source": [
        "s_dict =dict(dict_data)\n",
        "print(s_dict)\n",
        "\n",
        "s_list = list(dict_data)\n",
        "print(s_list)"
      ],
      "metadata": {
        "colab": {
          "base_uri": "https://localhost:8080/"
        },
        "id": "ZDPabMJoQGbk",
        "outputId": "a880799e-ac69-4fc9-c042-3136b3e79d78"
      },
      "execution_count": null,
      "outputs": [
        {
          "output_type": "stream",
          "name": "stdout",
          "text": [
            "{'서울': 1, '경기': 2, '강원': 3}\n",
            "['서울', '경기', '강원']\n"
          ]
        }
      ]
    },
    {
      "cell_type": "markdown",
      "source": [
        "시리즈 -> 딕셔너리 또는 리스트"
      ],
      "metadata": {
        "id": "wt036VcaQjW5"
      }
    },
    {
      "cell_type": "code",
      "source": [
        "#수정\n",
        "#dict_data = {'서울':1,'경기':2,'강원':3}\n",
        "#li_data = ['2022',9.23,'python',100,True]\n",
        "dict_data['서울'] = 30\n",
        "print(dict_data)\n",
        "\n",
        "li_data[1] = 5\n",
        "print(li_data)\n",
        "\n",
        "#추가\n",
        "dict_data['부산']=4\n",
        "print(dict_data)\n",
        "\n",
        "#위치 인덱스 에러 발생 -> IndexError: list assignment index out of range\n",
        "#li_data[5]=50   \n",
        "#print(li_data)\n",
        "\n",
        "#삭제\n",
        "del dict_data['부산']\n",
        "print(dict_data)\n",
        "\n",
        "dict_data.pop('경기')\n",
        "print(dict_data)"
      ],
      "metadata": {
        "colab": {
          "base_uri": "https://localhost:8080/"
        },
        "id": "q4bNM1vRQjHO",
        "outputId": "5cd0d69d-8679-4c9e-bfc7-31778537fb9c"
      },
      "execution_count": null,
      "outputs": [
        {
          "output_type": "stream",
          "name": "stdout",
          "text": [
            "{'서울': 30, '경기': 2, '강원': 3}\n",
            "['2022', 5, 'python', 100, True]\n",
            "{'서울': 30, '경기': 2, '강원': 3, '부산': 4}\n",
            "{'서울': 30, '경기': 2, '강원': 3}\n",
            "{'서울': 30, '강원': 3}\n"
          ]
        }
      ]
    },
    {
      "cell_type": "markdown",
      "source": [
        "데이터프레임"
      ],
      "metadata": {
        "id": "uoICvIfsSjYl"
      }
    },
    {
      "cell_type": "code",
      "source": [
        "import pandas as pd\n",
        "\n",
        "values = [[1,2,3],[4,5,6],[7,8,9]]\n",
        "index = ['one','two','three']\n",
        "columns = ['A','B','C']\n",
        "\n",
        "df = pd.DataFrame(values, index=index,columns=columns)\n",
        "print(df,'\\n')"
      ],
      "metadata": {
        "colab": {
          "base_uri": "https://localhost:8080/"
        },
        "id": "4UkqPtV6StWp",
        "outputId": "7e08af4a-601d-4d10-d706-5dbafe5dac52"
      },
      "execution_count": null,
      "outputs": [
        {
          "output_type": "stream",
          "name": "stdout",
          "text": [
            "       A  B  C\n",
            "one    1  2  3\n",
            "two    4  5  6\n",
            "three  7  8  9 \n",
            "\n"
          ]
        }
      ]
    },
    {
      "cell_type": "markdown",
      "source": [
        "딕셔너리 -> 데이터프레임"
      ],
      "metadata": {
        "id": "c1PrPnWwTzwY"
      }
    },
    {
      "cell_type": "code",
      "source": [
        "data_dict = {'name':['짱구','철수','유리','맹구'], 'score' : [57.5,91.3,86.6,77.5]}\n",
        "df1 = pd.DataFrame(data_dict)\n",
        "print(df1)"
      ],
      "metadata": {
        "colab": {
          "base_uri": "https://localhost:8080/"
        },
        "id": "hD7N467fTU78",
        "outputId": "4c2c611d-d534-4324-ae80-0c9d50b234f0"
      },
      "execution_count": null,
      "outputs": [
        {
          "output_type": "stream",
          "name": "stdout",
          "text": [
            "  name  score\n",
            "0   짱구   57.5\n",
            "1   철수   91.3\n",
            "2   유리   86.6\n",
            "3   맹구   77.5\n"
          ]
        }
      ]
    },
    {
      "cell_type": "markdown",
      "source": [
        "리스트->데이터프레임"
      ],
      "metadata": {
        "id": "4siGzfuSV0lC"
      }
    },
    {
      "cell_type": "code",
      "source": [
        "values = [[1,2,3],[4,5,6],[7,8,9]]\n",
        "index = ['one','two','three']\n",
        "columns = ['A','B','c']\n",
        "\n",
        "df2 = pd.DataFrame(values,index =index,columns =columns  )\n",
        "print(df2)\n",
        "print(df2.index)\n",
        "print(df2.columns)\n",
        "\n",
        "df2.index = ['일','이','삼']\n",
        "print(df2)\n",
        "\n",
        "df.columns = []\n"
      ],
      "metadata": {
        "colab": {
          "base_uri": "https://localhost:8080/",
          "height": 327
        },
        "id": "mwYAqxzDV3jL",
        "outputId": "2c0fad5d-9aa8-4ba8-c76c-3f0a39fb5148"
      },
      "execution_count": null,
      "outputs": [
        {
          "output_type": "stream",
          "name": "stdout",
          "text": [
            "       A  B  c\n",
            "one    1  2  3\n",
            "two    4  5  6\n",
            "three  7  8  9\n",
            "Index(['one', 'two', 'three'], dtype='object')\n",
            "Index(['A', 'B', 'c'], dtype='object')\n",
            "   A  B  c\n",
            "일  1  2  3\n",
            "이  4  5  6\n",
            "삼  7  8  9\n"
          ]
        },
        {
          "output_type": "execute_result",
          "data": {
            "text/plain": [
              "       A  B  C\n",
              "one    1  2  3\n",
              "two    4  5  6\n",
              "three  7  8  9"
            ],
            "text/html": [
              "\n",
              "  <div id=\"df-d82a1a0f-8a29-401d-9cd8-a55ce7762862\">\n",
              "    <div class=\"colab-df-container\">\n",
              "      <div>\n",
              "<style scoped>\n",
              "    .dataframe tbody tr th:only-of-type {\n",
              "        vertical-align: middle;\n",
              "    }\n",
              "\n",
              "    .dataframe tbody tr th {\n",
              "        vertical-align: top;\n",
              "    }\n",
              "\n",
              "    .dataframe thead th {\n",
              "        text-align: right;\n",
              "    }\n",
              "</style>\n",
              "<table border=\"1\" class=\"dataframe\">\n",
              "  <thead>\n",
              "    <tr style=\"text-align: right;\">\n",
              "      <th></th>\n",
              "      <th>A</th>\n",
              "      <th>B</th>\n",
              "      <th>C</th>\n",
              "    </tr>\n",
              "  </thead>\n",
              "  <tbody>\n",
              "    <tr>\n",
              "      <th>one</th>\n",
              "      <td>1</td>\n",
              "      <td>2</td>\n",
              "      <td>3</td>\n",
              "    </tr>\n",
              "    <tr>\n",
              "      <th>two</th>\n",
              "      <td>4</td>\n",
              "      <td>5</td>\n",
              "      <td>6</td>\n",
              "    </tr>\n",
              "    <tr>\n",
              "      <th>three</th>\n",
              "      <td>7</td>\n",
              "      <td>8</td>\n",
              "      <td>9</td>\n",
              "    </tr>\n",
              "  </tbody>\n",
              "</table>\n",
              "</div>\n",
              "      <button class=\"colab-df-convert\" onclick=\"convertToInteractive('df-d82a1a0f-8a29-401d-9cd8-a55ce7762862')\"\n",
              "              title=\"Convert this dataframe to an interactive table.\"\n",
              "              style=\"display:none;\">\n",
              "        \n",
              "  <svg xmlns=\"http://www.w3.org/2000/svg\" height=\"24px\"viewBox=\"0 0 24 24\"\n",
              "       width=\"24px\">\n",
              "    <path d=\"M0 0h24v24H0V0z\" fill=\"none\"/>\n",
              "    <path d=\"M18.56 5.44l.94 2.06.94-2.06 2.06-.94-2.06-.94-.94-2.06-.94 2.06-2.06.94zm-11 1L8.5 8.5l.94-2.06 2.06-.94-2.06-.94L8.5 2.5l-.94 2.06-2.06.94zm10 10l.94 2.06.94-2.06 2.06-.94-2.06-.94-.94-2.06-.94 2.06-2.06.94z\"/><path d=\"M17.41 7.96l-1.37-1.37c-.4-.4-.92-.59-1.43-.59-.52 0-1.04.2-1.43.59L10.3 9.45l-7.72 7.72c-.78.78-.78 2.05 0 2.83L4 21.41c.39.39.9.59 1.41.59.51 0 1.02-.2 1.41-.59l7.78-7.78 2.81-2.81c.8-.78.8-2.07 0-2.86zM5.41 20L4 18.59l7.72-7.72 1.47 1.35L5.41 20z\"/>\n",
              "  </svg>\n",
              "      </button>\n",
              "      \n",
              "  <style>\n",
              "    .colab-df-container {\n",
              "      display:flex;\n",
              "      flex-wrap:wrap;\n",
              "      gap: 12px;\n",
              "    }\n",
              "\n",
              "    .colab-df-convert {\n",
              "      background-color: #E8F0FE;\n",
              "      border: none;\n",
              "      border-radius: 50%;\n",
              "      cursor: pointer;\n",
              "      display: none;\n",
              "      fill: #1967D2;\n",
              "      height: 32px;\n",
              "      padding: 0 0 0 0;\n",
              "      width: 32px;\n",
              "    }\n",
              "\n",
              "    .colab-df-convert:hover {\n",
              "      background-color: #E2EBFA;\n",
              "      box-shadow: 0px 1px 2px rgba(60, 64, 67, 0.3), 0px 1px 3px 1px rgba(60, 64, 67, 0.15);\n",
              "      fill: #174EA6;\n",
              "    }\n",
              "\n",
              "    [theme=dark] .colab-df-convert {\n",
              "      background-color: #3B4455;\n",
              "      fill: #D2E3FC;\n",
              "    }\n",
              "\n",
              "    [theme=dark] .colab-df-convert:hover {\n",
              "      background-color: #434B5C;\n",
              "      box-shadow: 0px 1px 3px 1px rgba(0, 0, 0, 0.15);\n",
              "      filter: drop-shadow(0px 1px 2px rgba(0, 0, 0, 0.3));\n",
              "      fill: #FFFFFF;\n",
              "    }\n",
              "  </style>\n",
              "\n",
              "      <script>\n",
              "        const buttonEl =\n",
              "          document.querySelector('#df-d82a1a0f-8a29-401d-9cd8-a55ce7762862 button.colab-df-convert');\n",
              "        buttonEl.style.display =\n",
              "          google.colab.kernel.accessAllowed ? 'block' : 'none';\n",
              "\n",
              "        async function convertToInteractive(key) {\n",
              "          const element = document.querySelector('#df-d82a1a0f-8a29-401d-9cd8-a55ce7762862');\n",
              "          const dataTable =\n",
              "            await google.colab.kernel.invokeFunction('convertToInteractive',\n",
              "                                                     [key], {});\n",
              "          if (!dataTable) return;\n",
              "\n",
              "          const docLinkHtml = 'Like what you see? Visit the ' +\n",
              "            '<a target=\"_blank\" href=https://colab.research.google.com/notebooks/data_table.ipynb>data table notebook</a>'\n",
              "            + ' to learn more about interactive tables.';\n",
              "          element.innerHTML = '';\n",
              "          dataTable['output_type'] = 'display_data';\n",
              "          await google.colab.output.renderOutput(dataTable, element);\n",
              "          const docLink = document.createElement('div');\n",
              "          docLink.innerHTML = docLinkHtml;\n",
              "          element.appendChild(docLink);\n",
              "        }\n",
              "      </script>\n",
              "    </div>\n",
              "  </div>\n",
              "  "
            ]
          },
          "metadata": {},
          "execution_count": 78
        }
      ]
    },
    {
      "cell_type": "code",
      "source": [
        "#df3 출력 .index columnsc 출력\n",
        "data_li = [['100','짱구',70.5],['1001','철수',90.3],['1002','훈이',81.3],['1003','맹구',78.9]]\n",
        "\n",
        "df3 = pd.DataFrame(data_li)\n",
        "\n",
        "print(df3,'\\n')\n",
        "print(df3.index)\n",
        "print(df3.columns)\n",
        "\n",
        "#columns 지정 '학번',이름 점수\n",
        "df4 = pd.DataFrame(data_li,columns=['학번','이름','점수'])\n",
        "print(df4)"
      ],
      "metadata": {
        "colab": {
          "base_uri": "https://localhost:8080/"
        },
        "id": "CJGSt0s7WsjT",
        "outputId": "3a456b82-57d7-49b4-905a-efeb8d76bdc1"
      },
      "execution_count": null,
      "outputs": [
        {
          "output_type": "stream",
          "name": "stdout",
          "text": [
            "      0   1     2\n",
            "0   100  짱구  70.5\n",
            "1  1001  철수  90.3\n",
            "2  1002  훈이  81.3\n",
            "3  1003  맹구  78.9 \n",
            "\n",
            "RangeIndex(start=0, stop=4, step=1)\n",
            "RangeIndex(start=0, stop=3, step=1)\n",
            "     학번  이름    점수\n",
            "0   100  짱구  70.5\n",
            "1  1001  철수  90.3\n",
            "2  1002  훈이  81.3\n",
            "3  1003  맹구  78.9\n"
          ]
        }
      ]
    },
    {
      "cell_type": "markdown",
      "source": [
        "데이터프레임 -> 리스트"
      ],
      "metadata": {
        "id": "Vj7ACJ5yXyhz"
      }
    },
    {
      "cell_type": "code",
      "source": [
        "s= {'name':['짱구','철수','유리','맹구'],'score' : [57.5,91.3,86.6,77.5]}\n",
        "print(type(s))\n",
        "\n",
        "df_l1 = pd.DataFrame(s, columns = ['name','score'])\n",
        "print(df_l1)\n",
        "\n",
        "st_list = df_l1.values.tolist()\n",
        "print(st_list, type(st_list))\n",
        "\n",
        "#컬럼과 값을 함께 리스틀로 변환하는 방법\n",
        "#item_list =df_l1.colunms.values.tolist()+df_l1.values.tolist()\n",
        "#print(item_list)\n",
        "\n",
        "#특정 값만 리스트로 변환하는 방법\n",
        "item_list=df_l1['name'].values.tolist()\n",
        "print(item_list)\n",
        "item_list.append('훈이')\n",
        "print(item_list)"
      ],
      "metadata": {
        "colab": {
          "base_uri": "https://localhost:8080/"
        },
        "id": "kmg_bA8oX0UF",
        "outputId": "855cb982-478a-4e49-b4d7-2be9ea6b1e8e"
      },
      "execution_count": null,
      "outputs": [
        {
          "output_type": "stream",
          "name": "stdout",
          "text": [
            "<class 'dict'>\n",
            "  name  score\n",
            "0   짱구   57.5\n",
            "1   철수   91.3\n",
            "2   유리   86.6\n",
            "3   맹구   77.5\n",
            "[['짱구', 57.5], ['철수', 91.3], ['유리', 86.6], ['맹구', 77.5]] <class 'list'>\n",
            "['짱구', '철수', '유리', '맹구']\n",
            "['짱구', '철수', '유리', '맹구', '훈이']\n"
          ]
        }
      ]
    }
  ]
}