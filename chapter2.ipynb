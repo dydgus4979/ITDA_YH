{
  "nbformat": 4,
  "nbformat_minor": 0,
  "metadata": {
    "colab": {
      "provenance": [],
      "collapsed_sections": [],
      "authorship_tag": "ABX9TyOqeqSCcxo1TKbtvtuJt7FN",
      "include_colab_link": true
    },
    "kernelspec": {
      "name": "python3",
      "display_name": "Python 3"
    },
    "language_info": {
      "name": "python"
    }
  },
  "cells": [
    {
      "cell_type": "markdown",
      "metadata": {
        "id": "view-in-github",
        "colab_type": "text"
      },
      "source": [
        "<a href=\"https://colab.research.google.com/github/dydgus4979/ITDA_YH/blob/main/chapter2.ipynb\" target=\"_parent\"><img src=\"https://colab.research.google.com/assets/colab-badge.svg\" alt=\"Open In Colab\"/></a>"
      ]
    },
    {
      "cell_type": "markdown",
      "source": [
        "퍼셉트론 :  다수의 신호를 입력 받아 하나의 신호로 출력\n",
        "            x1,x2 ->(w1,w2) y1 => 입력신호 x * 가중치w = 임계값 이 임계값을 넘어서면 1을 출력 -> 퍼셉트론의 원리"
      ],
      "metadata": {
        "id": "0cMsEzGcbzt5"
      }
    },
    {
      "cell_type": "markdown",
      "source": [
        "단순 논리 회로\n",
        "1. AND 게이트\n",
        "- 입력이 둘 출력이 하나, 진리표 모두가 1일때 1을 출력\n",
        "- 퍼셉트론 -> x1,x2가 모두 1일 때만 가중 신호의 총합이 임계값을 웃돈다\n",
        "\n",
        "2. NAND,OR 게이트\n",
        "- NAND게이트는 AND게이트와 반대로 x1,x2가 모두 1일 때 0을 출력하고 그외에는 1을 출력\n",
        "- OR 게이트는 x1,x2중 하나 이상이 1이면 출력이 1\n",
        "\n",
        "정리 \n",
        "- 퍼셉트론 구조는 AND, NAND, OR 게이트 모두에서 똑같다. \n",
        "- 구조가 똑같기 때문에 매개변수의 값만 조정하면 다양하게 변경 가능"
      ],
      "metadata": {
        "id": "9_ce39HRc3ig"
      }
    },
    {
      "cell_type": "code",
      "source": [
        "def AND(x1, x2):\n",
        "    w1,w2, theta = 0.5,0.5,0.7\n",
        "    tmp = x1*w1 + x2*w2\n",
        "    if tmp <= theta:\n",
        "        return 0\n",
        "    elif tmp > theta:\n",
        "        return 1"
      ],
      "metadata": {
        "id": "J9iCkFPXO8RS"
      },
      "execution_count": null,
      "outputs": []
    },
    {
      "cell_type": "markdown",
      "source": [
        "퍼셉트론의 한계 -> xor게이트\n",
        "- XOR게이트는 베타적 논리합의 논리 회로\n",
        "- 퍼셉트론은 XOR게이트로 구현 불가능 - > 퍼셉트론은 직선 하나로 나눈 영역만 표현할 수 있다는 한계가 있기때문"
      ],
      "metadata": {
        "id": "t7gl2J60eini"
      }
    },
    {
      "cell_type": "markdown",
      "source": [
        "기존 게이트 조합\n",
        "- 다중 퍼셉트론으로 XOR표현 -> XOR게이트를 다른 관점에서 보기\n"
      ],
      "metadata": {
        "id": "Bk_-dXUAJr2q"
      }
    },
    {
      "cell_type": "code",
      "source": [
        "#XOR 게이트 구현\n",
        "def XOR(x1,x2):\n",
        "    s1 = NAND(x1,x2)\n",
        "    s2 = OR(x1,x2)\n",
        "    s3 = AND(s1,s2)\n",
        "    return y\n",
        "\n",
        "#단층 퍼셉트론으로는 구현을 하지못함\n",
        "#=> 층을 추가하여 다층퍼셉트론으로는 구현 가능\n",
        "\n"
      ],
      "metadata": {
        "id": "j-uVMBmfKOjj"
      },
      "execution_count": 3,
      "outputs": []
    },
    {
      "cell_type": "markdown",
      "source": [
        "NAND에서 컴퓨터까지\n",
        "- 이론상 2층 퍼셉트론이면 컴퓨터 표현가능\n",
        "- 비선형인 시그모이드 함수를 활성화 함수로 이용하면 임의의 함수 표현 가능"
      ],
      "metadata": {
        "id": "LRy-zyrxLYF9"
      }
    },
    {
      "cell_type": "markdown",
      "source": [
        "*정리*\n",
        "- 퍼셉트론은 입출력을 갖춘 알고리즘이다. 입력을 주면 정해진 규칙에 따른 값을 출력한다.\n",
        "- 퍼셉트론에서는 가중치와 편향을 매개변수로 설정\n",
        "- 퍼셉트론으로 AND,OR 게이트 등의 논리 회로를 표현 할 수 있음\n",
        "- XOR 게이트는 단층 퍼셉트론으로 표현 불가능\n",
        "- 2층 퍼셉트론을 이용하면 XOR게이트 표현 가능\n",
        "- 단층 퍼셉트론은 직선형 영역만 표현할 수 있고, 다층 퍼셉트론은 비선형 영역도 표현 가능\n",
        "- 다층 퍼셉트론은 이론상 컴퓨터를 표현 가능"
      ],
      "metadata": {
        "id": "crnHjQvaLuab"
      }
    },
    {
      "cell_type": "code",
      "source": [
        "a = input(\"문자 입력 : \")\n",
        "print(a.index(input(\"단어 입력 : \")))"
      ],
      "metadata": {
        "colab": {
          "base_uri": "https://localhost:8080/"
        },
        "id": "2GP6RxLLRRQQ",
        "outputId": "08ba2c27-2f5f-4fcd-dcc0-2fb9e6327842"
      },
      "execution_count": null,
      "outputs": [
        {
          "output_type": "stream",
          "name": "stdout",
          "text": [
            "문자 입력 : pineapple is yummy\n",
            "단어 입력 : apple\n",
            "4\n"
          ]
        }
      ]
    }
  ]
}