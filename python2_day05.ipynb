{
  "nbformat": 4,
  "nbformat_minor": 0,
  "metadata": {
    "colab": {
      "provenance": [],
      "collapsed_sections": [],
      "authorship_tag": "ABX9TyPAdGbwn9v39DKY8guAlRjh",
      "include_colab_link": true
    },
    "kernelspec": {
      "name": "python3",
      "display_name": "Python 3"
    },
    "language_info": {
      "name": "python"
    }
  },
  "cells": [
    {
      "cell_type": "markdown",
      "metadata": {
        "id": "view-in-github",
        "colab_type": "text"
      },
      "source": [
        "<a href=\"https://colab.research.google.com/github/dydgus4979/ITDA_YH/blob/main/python2_day05.ipynb\" target=\"_parent\"><img src=\"https://colab.research.google.com/assets/colab-badge.svg\" alt=\"Open In Colab\"/></a>"
      ]
    },
    {
      "cell_type": "code",
      "execution_count": null,
      "metadata": {
        "colab": {
          "base_uri": "https://localhost:8080/"
        },
        "id": "QS-c-tAlm_3V",
        "outputId": "6ab9cefc-36a9-4dc4-ddc0-adfc673a15a1"
      },
      "outputs": [
        {
          "output_type": "stream",
          "name": "stdout",
          "text": [
            "      0   1     2\n",
            "0  1000  짱구  70.5\n",
            "1  1001  철수  98.2\n",
            "2  1002  훈이  81.3\n",
            "3  1003  맹구  78.3 \n",
            "\n",
            "       번호 학생이름  파이썬 점수\n",
            "학생1  1000   짱구    70.5\n",
            "학생2  1001   철수    98.2\n",
            "학생3  1002   훈이    81.3\n",
            "학생4  1003   맹구    78.3\n"
          ]
        }
      ],
      "source": [
        "import pandas as pd\n",
        "data_li = [[1000,'짱구',70.5],[1001,'철수',98.2],['1002','훈이',81.3],['1003','맹구',78.3]]\n",
        "\n",
        "df6 = pd.DataFrame(data_li)\n",
        "print(df6, '\\n')\n",
        "\n",
        "df6.rename(columns = {0:'번호',1:'학생이름',2:'파이썬 점수'}, inplace = True)\n",
        "df6.rename(index = {0:'학생1',1:'학생2',2:'학생3',3:'학생4'}, inplace = True)\n",
        "\n",
        "print(df6)\n"
      ]
    },
    {
      "cell_type": "code",
      "source": [
        "df_6 = df6.copy()   #복사\n",
        "print(df_6)\n",
        "\n",
        "#행 삭제 axis 옵션 생략 가능\n",
        "df_6.drop('학생2',inplace = True)\n",
        "print(df_6)\n",
        "\n",
        "#번호 열삭제\n",
        "# df_6.drop('번호', axis =1, inplace = True)\n",
        "# print(df_6)\n",
        "\n",
        "# df_6.drop(['번호','파이썬 점수'], axis =1, inplace = True)\n",
        "# print(df_6)"
      ],
      "metadata": {
        "colab": {
          "base_uri": "https://localhost:8080/"
        },
        "id": "CZaZFaq5odI4",
        "outputId": "f1d5945c-703c-4598-85a8-7e398659b9fb"
      },
      "execution_count": null,
      "outputs": [
        {
          "output_type": "stream",
          "name": "stdout",
          "text": [
            "       번호 학생이름  파이썬 점수\n",
            "학생1  1000   짱구    70.5\n",
            "학생2  1001   철수    98.2\n",
            "학생3  1002   훈이    81.3\n",
            "학생4  1003   맹구    78.3\n",
            "       번호 학생이름  파이썬 점수\n",
            "학생1  1000   짱구    70.5\n",
            "학생3  1002   훈이    81.3\n",
            "학생4  1003   맹구    78.3\n",
            "    학생이름\n",
            "학생1   짱구\n",
            "학생3   훈이\n",
            "학생4   맹구\n"
          ]
        }
      ]
    },
    {
      "cell_type": "markdown",
      "source": [
        "> 행 선택\n",
        "> 딕셔너리는 알아서 인덱스로 컬럼명이 부여됨"
      ],
      "metadata": {
        "id": "Hrfi0LtHrA8c"
      }
    },
    {
      "cell_type": "code",
      "source": [
        "import pandas as pd\n",
        "\n",
        "exam_data = {'파이썬1' : [40,100,70,30],'파이썬2' : [50,70,90,80],'c언어' : [50,90,70,20],'java':[88,68,58,38]}\n",
        "df7 = pd.DataFrame(exam_data, index = ['짱구','철수','훈이','맹구'])\n",
        "\n",
        "print(df7)\n",
        "\n",
        "print(df7.iloc[1])\n",
        "\n",
        "#행 선택\n",
        "print(df7.loc['짱구'])\n",
        "\n",
        "print(df7.loc['훈이'])\n",
        "\n",
        "print(df7.loc[['짱구','맹구']])\n",
        "\n",
        "print(df7.iloc[3])\n",
        "print(df7.iloc[2,1])"
      ],
      "metadata": {
        "colab": {
          "base_uri": "https://localhost:8080/"
        },
        "id": "1xeubp-QpGsP",
        "outputId": "cd279d75-f5dd-462b-dcb4-d9667a7de67f"
      },
      "execution_count": null,
      "outputs": [
        {
          "output_type": "stream",
          "name": "stdout",
          "text": [
            "    파이썬1  파이썬2  c언어  java\n",
            "짱구    40    50   50    88\n",
            "철수   100    70   90    68\n",
            "훈이    70    90   70    58\n",
            "맹구    30    80   20    38\n",
            "파이썬1    100\n",
            "파이썬2     70\n",
            "c언어      90\n",
            "java     68\n",
            "Name: 철수, dtype: int64\n",
            "파이썬1    40\n",
            "파이썬2    50\n",
            "c언어     50\n",
            "java    88\n",
            "Name: 짱구, dtype: int64\n",
            "파이썬1    70\n",
            "파이썬2    90\n",
            "c언어     70\n",
            "java    58\n",
            "Name: 훈이, dtype: int64\n",
            "    파이썬1  파이썬2  c언어  java\n",
            "짱구    40    50   50    88\n",
            "맹구    30    80   20    38\n",
            "파이썬1    30\n",
            "파이썬2    80\n",
            "c언어     20\n",
            "java    38\n",
            "Name: 맹구, dtype: int64\n",
            "90\n"
          ]
        }
      ]
    },
    {
      "cell_type": "code",
      "source": [
        "exam_data1 = {'파이썬1' : [40,100,70,30],'파이썬2' : [50,70,90,80],'c언어' : [50,90,70,20],'java':[88,68,58,38]}\n",
        "\n",
        "df8 = pd.DataFrame(exam_data1,index = ['짱구','철수','훈이','맹구'])\n",
        "print(df8,'\\n')\n",
        "\n",
        "py = df8['파이썬1']\n",
        "print(py, type(py),'\\n')\n",
        "\n",
        "java = df8.java\n",
        "print(java,'\\n')\n",
        "\n",
        "lan = df8[['파이썬1','파이썬2']]\n",
        "print(lan, type(lan), '\\n')\n",
        "\n",
        "c= df8.c언어\n",
        "print(c, type(c))"
      ],
      "metadata": {
        "colab": {
          "base_uri": "https://localhost:8080/"
        },
        "id": "q0l3d5iftETu",
        "outputId": "6e4a8697-439d-4a95-dd1f-09f45499c367"
      },
      "execution_count": null,
      "outputs": [
        {
          "output_type": "stream",
          "name": "stdout",
          "text": [
            "    파이썬1  파이썬2  c언어  java\n",
            "짱구    40    50   50    88\n",
            "철수   100    70   90    68\n",
            "훈이    70    90   70    58\n",
            "맹구    30    80   20    38 \n",
            "\n",
            "짱구     40\n",
            "철수    100\n",
            "훈이     70\n",
            "맹구     30\n",
            "Name: 파이썬1, dtype: int64 <class 'pandas.core.series.Series'> \n",
            "\n",
            "짱구    88\n",
            "철수    68\n",
            "훈이    58\n",
            "맹구    38\n",
            "Name: java, dtype: int64 \n",
            "\n",
            "    파이썬1  파이썬2\n",
            "짱구    40    50\n",
            "철수   100    70\n",
            "훈이    70    90\n",
            "맹구    30    80 <class 'pandas.core.frame.DataFrame'> \n",
            "\n",
            "짱구    50\n",
            "철수    90\n",
            "훈이    70\n",
            "맹구    20\n",
            "Name: c언어, dtype: int64 <class 'pandas.core.series.Series'>\n"
          ]
        }
      ]
    },
    {
      "cell_type": "code",
      "source": [
        "stack = []\n",
        "\n",
        "stack.append(1)\n",
        "stack.append(2)\n",
        "stack.append(3)\n",
        "stack.append(4)\n",
        "stack.append(5)\n",
        "\n",
        "print(stack)\n",
        "\n",
        "stack.pop()\n",
        "print(stack)\n",
        "stack.pop()\n",
        "stack.pop()\n",
        "print(stack)"
      ],
      "metadata": {
        "colab": {
          "base_uri": "https://localhost:8080/"
        },
        "id": "3HtdJADO0kjH",
        "outputId": "25515705-dda6-4628-b8a0-f10dace3a712"
      },
      "execution_count": null,
      "outputs": [
        {
          "output_type": "stream",
          "name": "stdout",
          "text": [
            "[1, 2, 3, 4, 5]\n",
            "[1, 2, 3, 4]\n",
            "[1, 2]\n"
          ]
        }
      ]
    },
    {
      "cell_type": "code",
      "source": [
        "#함수명 Stack()\n",
        "#빈 리스트 1개 생성 이름 : stack\n",
        "#리스트에 1부터 3까지 추가 후\n",
        "#stack에 있는 값들을 하나씩 pop 시키기(반복문 사용)\n",
        "#반복문 내 출력\"Pop Values is\"로 출력\n",
        "#Stack() 출력 결과를 확인\n",
        "\n",
        "#출력결과\n",
        "#[1,2,3]\n",
        "#POP Values is 3\n",
        "#POP Values is 2\n",
        "#POP Values is 1\n",
        "def Stack():\n",
        "    stack = []\n",
        "    \n",
        "    stack.append(1)\n",
        "    stack.append(2)\n",
        "    stack.append(3)\n",
        "\n",
        "    print(stack)\n",
        "\n",
        "    while stack:\n",
        "        print('pop Values is', stack.pop())\n",
        "    \n",
        "Stack()"
      ],
      "metadata": {
        "colab": {
          "base_uri": "https://localhost:8080/"
        },
        "id": "JU0D7wnx2wKB",
        "outputId": "922550eb-4446-4fae-bd25-faeb2553ed0e"
      },
      "execution_count": null,
      "outputs": [
        {
          "output_type": "stream",
          "name": "stdout",
          "text": [
            "[1, 2, 3]\n",
            "pop Values is 3\n",
            "pop Values is 2\n",
            "pop Values is 1\n"
          ]
        }
      ]
    },
    {
      "cell_type": "code",
      "source": [
        "#class명 Stack\n",
        "class Stack:\n",
        "    def __init__(self, max = 10):   #초기화 하는 함수(스택배열 생성하는 등의 준비작업)\n",
        "        self.stk = []   #실질적으로ㅓ 데이터가 저장될 공간\n",
        "        self.max = max  # 스택의 크기를 저장할 공간\n",
        "\n",
        "    #show) 확인용 함수\n",
        "    def show(self):\n",
        "        print(\"-------------------------\")\n",
        "        for element in self.stk:\n",
        "            print('l', element, end = ' ')\n",
        "        print(\"\\n-------------------------\")\n",
        "\n",
        "    #push()\n",
        "    def push(self, element):\n",
        "        if self.max > len(self.stk):\n",
        "            self.stk.append(element)\n",
        "    #pop()\n",
        "    #스택이 비어있는데 삭제하려고하는 경우에는 오류\n",
        "    #스택이 비어있지 않을때만 삭제\n",
        "    #삭제 + 삭제된 요소를 return\n",
        "    def pop(self):\n",
        "        if len(self.stk) != 0:\n",
        "            return self.stk.pop()\n",
        "    def peek(self):\n",
        "        if len(self.stk) !=0:\n",
        "            return self.stk[-1]\n",
        "\n",
        "    def clear(self):\n",
        "        for i in range(len(self.stk)):\n",
        "            self.pop()\n"
      ],
      "metadata": {
        "id": "qrkMU2Jp6_SO"
      },
      "execution_count": null,
      "outputs": []
    },
    {
      "cell_type": "code",
      "source": [
        "s1 = Stack(1)\n",
        "s1.push(10)\n",
        "s1.push(20)\n",
        "s1.push(30)\n",
        "s1.push(40)\n",
        "s1.push(50)\n",
        "s1.push(60)\n",
        "s1.show()\n",
        "print(\"삭제된 요소 : \", s1.pop())\n",
        "s1.show()\n",
        "print(\"삭제된 요소 : \", s1.pop())\n",
        "s1.show()\n",
        "print('top에 있는 요소 : ',s1.peek())\n",
        "s1.clear()\n",
        "s1.show()"
      ],
      "metadata": {
        "colab": {
          "base_uri": "https://localhost:8080/"
        },
        "id": "wR8ZHNFaBCbH",
        "outputId": "1955a9aa-cf60-4bf9-cbb1-658f57abe535"
      },
      "execution_count": null,
      "outputs": [
        {
          "output_type": "stream",
          "name": "stdout",
          "text": [
            "-------------------------\n",
            "l 10 \n",
            "-------------------------\n",
            "삭제된 요소 :  10\n",
            "-------------------------\n",
            "\n",
            "-------------------------\n",
            "삭제된 요소 :  None\n",
            "-------------------------\n",
            "\n",
            "-------------------------\n",
            "top에 있는 요소 :  None\n",
            "-------------------------\n",
            "\n",
            "-------------------------\n"
          ]
        }
      ]
    }
  ]
}